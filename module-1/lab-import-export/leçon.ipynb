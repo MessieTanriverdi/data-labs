{
 "cells": [
  {
   "cell_type": "code",
   "execution_count": 1,
   "metadata": {},
   "outputs": [],
   "source": [
    "import pandas as pd\n",
    "\n",
    "data1 = pd.read_csv('/Users/messie/Desktop/vehicles/vehicles.csv')\n",
    "data2 = pd.read_csv('/Users/messie/Desktop/vehicles/vehicles_tab.txt', sep='\\t')\n",
    "data3 = pd.read_csv('/Users/messie/Desktop/vehicles/vehicles_pipe.txt', sep='|')\n",
    "\n",
    "data1.to_csv('/Users/messie/Desktop/vehicles/exportation.txt', sep='|', index=False)\n",
    "\n",
    "# Avec excel\n",
    "data4 = pd.read_excel('/Users/messie/Desktop/vehicles/vehicles.xlsx')\n",
    "data4.to_excel('/Users/messie/Desktop/vehicles/exportation.xlsx', index=False)\n",
    "\n"
   ]
  },
  {
   "cell_type": "code",
   "execution_count": 4,
   "metadata": {},
   "outputs": [],
   "source": [
    "# Avec JSON\n",
    "data5 = pd.read_json('/Users/messie/Desktop/vehicles/vehicles.json', orient='records')\n",
    "data5.to_json('/Users/messie/Desktop/vehicles/exportation.json', orient='records')\n"
   ]
  },
  {
   "cell_type": "code",
   "execution_count": 14,
   "metadata": {},
   "outputs": [],
   "source": [
    "\n",
    "import pymysql\n",
    "from sqlalchemy import create_engine\n",
    "\n",
    "#connection = pymysql.connect(host='sqlhost', trusted=True)\n"
   ]
  },
  {
   "cell_type": "code",
   "execution_count": 18,
   "metadata": {},
   "outputs": [],
   "source": [
    "engine = create_engine('mysql+pymysql://root:m@localhost/publications')\n"
   ]
  },
  {
   "cell_type": "code",
   "execution_count": 23,
   "metadata": {},
   "outputs": [
    {
     "name": "stdout",
     "output_type": "stream",
     "text": [
      "       emp_id      fname minit      lname  job_id  job_lvl pub_id  hire_date\n",
      "0   A-C71970F       Aria             Cruz      10       87   1389 1991-10-26\n",
      "1   A-R89858F    Annette           Roulet       6      152   9999 1990-02-21\n",
      "2   AMD15433F        Ann     M      Devon       3      200   9952 1991-07-16\n",
      "3   ARD36773F    Anabela     R  Domingues       8      100   0877 1993-01-27\n",
      "4   CFH28514M     Carlos     F   Hernadez       5      211   9999 1989-04-21\n",
      "5   CGS88322F     Carine     G    Schmitt      13       64   1389 1992-07-07\n",
      "6   DBT39435M     Daniel     B     Tonini      11       75   0877 1990-01-01\n",
      "7   DWR65030M      Diego     W       Roel       6      192   1389 1991-12-16\n",
      "8   ENL44273F  Elizabeth     N    Lincoln      14       35   0877 1990-07-24\n",
      "9   F-C16315M  Francisco            Chang       4      227   9952 1990-11-03\n",
      "10  GHT50241M       Gary     H     Thomas       9      170   0736 1988-08-09\n",
      "11  H-B39728F      Helen          Bennett      12       35   0877 1989-09-21\n",
      "12  HAN90777M  Helvetius     A       Nagy       7      120   9999 1993-03-19\n",
      "13  HAS54740M     Howard     A     Snyder      12      100   0736 1988-11-19\n",
      "14  JYL26161F     Janine     Y    Labrune       5      172   9901 1991-05-26\n",
      "15  KFJ64308F      Karin     F    Josephs      14      100   0736 1992-10-17\n",
      "16  KJJ92907F      Karla     J  Jablonski       9      170   9999 1994-03-11\n",
      "17  L-B31947F     Lesley            Brown       7      120   0877 1991-02-13\n",
      "18  LAL21447M   Laurence     A    Lebihan       5      175   0736 1990-06-03\n",
      "19  M-L67958F      Maria          Larsson       7      135   1389 1992-03-27\n",
      "20  M-P91209M     Manuel          Pereira       8      101   9999 1989-01-09\n",
      "21  M-R38834F    Martine            Rance       9       75   0877 1992-02-05\n",
      "22  MAP77183M     Miguel     A    Paolino      11      112   1389 1992-12-07\n",
      "23  MAS70474F   Margaret     A      Smith       9       78   1389 1988-09-29\n",
      "24  MFS52347M     Martin     F     Sommer      10      165   0736 1990-04-13\n",
      "25  MGK44605M      Matti     G  Karttunen       6      220   0736 1994-05-01\n",
      "26  MJP25939M      Maria     J     Pontes       5      246   1756 1989-03-01\n",
      "27  MMS49649F       Mary     M    Saveley       8      175   0736 1993-06-29\n",
      "28  PCM98509F   Patricia     C    McKenna      11      150   9999 1989-08-01\n",
      "29  PDI47470M      Palle     D      Ibsen       7      195   0736 1993-05-09\n",
      "30  PHF38899M      Peter     H    Franken      10       75   0877 1992-05-17\n",
      "31  PMA42628M      Paolo     M    Accorti      13       35   0877 1992-08-27\n",
      "32  POK93028M     Pirkko     O  Koskitalo      10       80   9999 1993-11-29\n",
      "33  PSA89086M      Pedro     S     Afonso      14       89   1389 1990-12-24\n",
      "34  PSP68661F      Paula     S    Parente       8      125   1389 1994-01-19\n",
      "35  PTC11962M     Philip     T     Cramer       2      215   9952 1989-11-11\n",
      "36  PXH22250M       Paul     X    Henriot       5      159   0877 1993-08-19\n",
      "37  R-M53550M     Roland           Mendel      11      150   0736 1991-09-05\n",
      "38  RBM23061F       Rita     B     Muller       5      198   1622 1993-10-09\n",
      "39  SKO22412M       Sven     K    Ottlieb       5      150   1389 1991-04-05\n",
      "40  TPO55093M    Timothy     P   O'Rourke      13      100   0736 1988-06-19\n",
      "41  VPA30890F   Victoria     P   Ashworth       6      140   0877 1990-09-13\n",
      "42  Y-L77953M      Yoshi          Latimer      12       32   1389 1989-06-11\n"
     ]
    }
   ],
   "source": [
    "data = pd.read_sql_query('SELECT * FROM publications.employee', engine)\n",
    "print(data)"
   ]
  },
  {
   "cell_type": "code",
   "execution_count": 22,
   "metadata": {},
   "outputs": [],
   "source": [
    "data.to_sql('employee2', engine, if_exists='replace', index=False)\n"
   ]
  },
  {
   "cell_type": "code",
   "execution_count": null,
   "metadata": {},
   "outputs": [],
   "source": []
  },
  {
   "cell_type": "code",
   "execution_count": null,
   "metadata": {},
   "outputs": [],
   "source": []
  }
 ],
 "metadata": {
  "kernelspec": {
   "display_name": "Python 3",
   "language": "python",
   "name": "python3"
  },
  "language_info": {
   "codemirror_mode": {
    "name": "ipython",
    "version": 3
   },
   "file_extension": ".py",
   "mimetype": "text/x-python",
   "name": "python",
   "nbconvert_exporter": "python",
   "pygments_lexer": "ipython3",
   "version": "3.7.3"
  }
 },
 "nbformat": 4,
 "nbformat_minor": 2
}
