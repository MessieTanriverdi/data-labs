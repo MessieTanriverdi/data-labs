{
 "cells": [
  {
   "cell_type": "markdown",
   "metadata": {},
   "source": [
    "In the cell below, create a Python function that wraps your previous solution for the Bag of Words lab.\n",
    "\n",
    "Requirements:\n",
    "\n",
    "1. Your function should accept the following parameters:\n",
    "    * `docs` [REQUIRED] - array of document paths.\n",
    "    * `stop_words` [OPTIONAL] - array of stop words. The default value is an empty array.\n",
    "\n",
    "1. Your function should return a Python object that contains the following:\n",
    "    * `bag_of_words` - array of strings of normalized unique words in the corpus.\n",
    "    * `term_freq` - array of the term-frequency vectors."
   ]
  },
  {
   "cell_type": "code",
   "execution_count": 29,
   "metadata": {},
   "outputs": [],
   "source": [
    "# Import required libraries\n",
    "\n",
    "# Define function\n",
    "def get_bow_from_docs(docs, stop_words=[]):\n",
    "    \n",
    "    # In the function, first define the variables you will use such as `corpus`, `bag_of_words`, and `term_freq`.\n",
    "    \n",
    "    corpus = []\n",
    "\n",
    "    \"\"\"\n",
    "    Loop `docs` and read the content of each doc into a string in `corpus`.\n",
    "    Remember to convert the doc content to lowercases and remove punctuation.\n",
    "    \"\"\"\n",
    "\n",
    "    for i in docs:\n",
    "        with open(i, \"r\") as f:\n",
    "            lines = f.readlines()\n",
    "            for line in lines:\n",
    "                corpus.append(line)\n",
    "\n",
    "    import re\n",
    "\n",
    "    corpus = [re.sub('[.]', '', i.lower()) for i in corpus]\n",
    "\n",
    "    \n",
    "    \"\"\"\n",
    "    Loop `corpus`. Append the terms in each doc into the `bag_of_words` array. The terms in `bag_of_words` \n",
    "    should be unique which means before adding each term you need to check if it's already added to the array.\n",
    "    In addition, check if each term is in the `stop_words` array. Only append the term to `bag_of_words`\n",
    "    if it is not a stop word.\n",
    "    \"\"\"\n",
    "    \n",
    "    bag_of_words = []\n",
    "    \n",
    "    for i in corpus:\n",
    "        split = i.split()\n",
    "        for j in split:\n",
    "            if j not in bag_of_words:\n",
    "                bag_of_words.append(j)\n",
    "    \n",
    "    to_remove = []\n",
    "\n",
    "    for i in bag_of_words:\n",
    "        if i in stop_words:\n",
    "            to_remove.append(i)\n",
    "\n",
    "    for i in to_remove:\n",
    "        bag_of_words.remove(i)\n",
    "\n",
    "    \"\"\"\n",
    "    Loop `corpus` again. For each doc string, count the number of occurrences of each term in `bag_of_words`. \n",
    "    Create an array for each doc's term frequency and append it to `term_freq`.\n",
    "    \"\"\"\n",
    "\n",
    "    term_freq = []\n",
    "    \n",
    "    for i in corpus:\n",
    "        split = i.split()\n",
    "        count = []\n",
    "        for w in bag_of_words:\n",
    "            count.append(split.count(w))\n",
    "        term_freq.append(count)\n",
    "    \n",
    "    # Now return your output as an object\n",
    "    return {\n",
    "        \"bag_of_words\": bag_of_words,\n",
    "        \"term_freq\": term_freq\n",
    "    }\n",
    "    "
   ]
  },
  {
   "cell_type": "markdown",
   "metadata": {},
   "source": [
    "Test your function without stop words. You should see the output like below:\n",
    "\n",
    "```{'bag_of_words': ['ironhack', 'is', 'cool', 'i', 'love', 'am', 'a', 'student', 'at'], 'term_freq': [[1, 1, 1, 0, 0, 0, 0, 0, 0], [1, 0, 0, 1, 1, 0, 0, 0, 0], [1, 0, 0, 1, 0, 1, 1, 1, 1]]}```"
   ]
  },
  {
   "cell_type": "code",
   "execution_count": 33,
   "metadata": {},
   "outputs": [
    {
     "name": "stdout",
     "output_type": "stream",
     "text": [
      "{'bag_of_words': ['ironhack', 'is', 'cool', 'i', 'love', 'am', 'a', 'student', 'at'], 'term_freq': [[1, 1, 1, 0, 0, 0, 0, 0, 0], [1, 0, 0, 1, 1, 0, 0, 0, 0], [1, 0, 0, 1, 0, 1, 1, 1, 1]]}\n"
     ]
    }
   ],
   "source": [
    "# Define doc paths array\n",
    "\n",
    "path = (\"../../lab-string-operations/your-code/\")\n",
    "\n",
    "docs = [path+'doc1.txt', path+'doc2.txt', path+'doc3.txt']\n",
    "\n",
    "# Obtain BoW from your function\n",
    "bow = get_bow_from_docs(docs)\n",
    "\n",
    "# Print BoW\n",
    "print(bow)\n",
    "\n"
   ]
  },
  {
   "cell_type": "markdown",
   "metadata": {},
   "source": [
    "If your attempt above is successful, nice work done!\n",
    "\n",
    "Now test your function again with the stop words. In the previous lab we defined the stop words in a large array. In this lab, we'll import the stop words from Scikit-Learn."
   ]
  },
  {
   "cell_type": "code",
   "execution_count": 34,
   "metadata": {
    "scrolled": true
   },
   "outputs": [
    {
     "name": "stdout",
     "output_type": "stream",
     "text": [
      "frozenset({'that', 'for', 'sixty', 'both', 'everyone', 'becoming', 'someone', 'front', 'mill', 'third', 'until', 'much', 'anyhow', 'put', 'anyway', 'then', 'of', 'it', 'beforehand', 'than', 'top', 'sincere', 'nor', 'fifteen', 'most', 'whereupon', 'hasnt', 'etc', 'while', 'under', 'anywhere', 'fifty', 'whatever', 'in', 'same', 'thru', 'cry', 'few', 'has', 'us', 'now', 'wherein', 'enough', 'afterwards', 'during', 'how', 'up', 'what', 'after', 'done', 'at', 'keep', 'should', 'per', 'yourselves', 'take', 'everything', 'when', 'every', 'yourself', 'ten', 'part', 'none', 'anyone', 'hereafter', 'across', 'whom', 'un', 'be', 'fill', 'see', 'these', 'herself', 'nine', 'toward', 'once', 'whereafter', 'being', 'above', 'ourselves', 'together', 'cant', 'over', 'mine', 'seemed', 'yet', 'amongst', 'not', 'thick', 'into', 'hers', 'rather', 'bottom', 'their', 'empty', 'others', 'twelve', 'besides', 'name', 'from', 'thence', 'whereby', 'you', 'couldnt', 'latterly', 'former', 'next', 'can', 'around', 'therein', 'any', 'indeed', 'always', 'too', 'due', 'my', 'otherwise', 'where', 'an', 'thereafter', 'no', 'two', 'the', 'if', 'hereupon', 'all', 'between', 'give', 'please', 'own', 'hereby', 're', 'back', 'each', 'only', 'though', 'became', 'they', 'since', 'perhaps', 'everywhere', 'become', 'whoever', 'we', 'amoungst', 'here', 'never', 'itself', 'such', 'many', 'side', 'your', 'might', 'would', 'least', 'whither', 'somehow', 'off', 'ours', 'bill', 'eight', 'out', 'by', 'could', 'he', 'himself', 'yours', 'already', 'noone', 'myself', 'show', 'him', 'further', 'on', 'and', 'found', 'upon', 'ltd', 'inc', 'go', 'is', 'seem', 'except', 'else', 'somewhere', 'meanwhile', 'con', 'again', 'among', 'first', 'must', 'via', 'was', 'within', 'nowhere', 'whenever', 'about', 'am', 'there', 'detail', 'hence', 'whence', 'without', 'sometimes', 'several', 'throughout', 'who', 'call', 'beside', 'our', 'have', 'one', 'behind', 'five', 'as', 'fire', 'move', 'therefore', 'even', 'a', 'with', 'whether', 'ever', 'nevertheless', 'themselves', 'those', 'neither', 'herein', 'before', 'however', 'interest', 'she', 'namely', 'six', 'thereupon', 'whereas', 'made', 'serious', 'describe', 'thereby', 'formerly', 'anything', 'may', 'do', 'eleven', 'more', 'cannot', 'which', 'co', 'towards', 'onto', 'this', 'been', 'four', 'thin', 'full', 'very', 'along', 'find', 'whose', 'less', 'but', 'de', 'mostly', 'why', 'were', 'amount', 'forty', 'also', 'hundred', 'because', 'beyond', 'against', 'eg', 'ie', 'through', 'either', 'other', 'seeming', 'elsewhere', 'sometime', 'i', 'to', 'will', 'whole', 'so', 'her', 'me', 'down', 'wherever', 'his', 'system', 'nobody', 'still', 'last', 'them', 'thus', 'below', 'well', 'or', 'often', 'moreover', 'nothing', 'something', 'almost', 'twenty', 'its', 'latter', 'three', 'get', 'some', 'alone', 'becomes', 'although', 'are', 'had', 'another', 'seems'})\n"
     ]
    }
   ],
   "source": [
    "from sklearn.feature_extraction import stop_words\n",
    "print(stop_words.ENGLISH_STOP_WORDS)"
   ]
  },
  {
   "cell_type": "markdown",
   "metadata": {},
   "source": [
    "You should have seen a large list of words that looks like:\n",
    "\n",
    "```frozenset({'across', 'mine', 'cannot', ...})```\n",
    "\n",
    "`frozenset` is a type of Python object that is immutable. In this lab you can use it just like an array without conversion."
   ]
  },
  {
   "cell_type": "markdown",
   "metadata": {},
   "source": [
    "Next, test your function with supplying `stop_words.ENGLISH_STOP_WORDS` as the second parameter."
   ]
  },
  {
   "cell_type": "code",
   "execution_count": 36,
   "metadata": {},
   "outputs": [
    {
     "name": "stdout",
     "output_type": "stream",
     "text": [
      "{'bag_of_words': ['ironhack', 'cool', 'love', 'student'], 'term_freq': [[1, 1, 0, 0], [1, 0, 1, 0], [1, 0, 0, 1]]}\n"
     ]
    }
   ],
   "source": [
    "bow = get_bow_from_docs(docs, stop_words.ENGLISH_STOP_WORDS)\n",
    "\n",
    "print(bow)"
   ]
  },
  {
   "cell_type": "markdown",
   "metadata": {},
   "source": [
    "You should have seen:\n",
    "\n",
    "```{'bag_of_words': ['ironhack', 'cool', 'love', 'student'], 'term_freq': [[1, 1, 0, 0], [1, 0, 1, 0], [1, 0, 0, 1]]}```"
   ]
  },
  {
   "cell_type": "code",
   "execution_count": null,
   "metadata": {},
   "outputs": [],
   "source": []
  }
 ],
 "metadata": {
  "kernelspec": {
   "display_name": "Python 3",
   "language": "python",
   "name": "python3"
  },
  "language_info": {
   "codemirror_mode": {
    "name": "ipython",
    "version": 3
   },
   "file_extension": ".py",
   "mimetype": "text/x-python",
   "name": "python",
   "nbconvert_exporter": "python",
   "pygments_lexer": "ipython3",
   "version": "3.7.3"
  }
 },
 "nbformat": 4,
 "nbformat_minor": 2
}
