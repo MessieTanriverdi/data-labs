{
 "cells": [
  {
   "cell_type": "markdown",
   "metadata": {},
   "source": [
    "# Challenge: Promotions\n",
    "\n",
    "In this challenge, you'll develop codes to parse and analyze data returned from another API on Zalando such as [Promos homme (Men's Promotions)\n",
    "](https://www.zalando.fr/promo-homme/) or [Promos femme (Women's Promotions)](https://www.zalando.fr/promo-femme/). The workflow is almost the same as in the guided lesson but you'll work with different data."
   ]
  },
  {
   "cell_type": "markdown",
   "metadata": {},
   "source": [
    "## Obtaining the link\n",
    "\n",
    "Wrote your codes in the cell below to obtain the data from the API endpoint you choose. A recap of the workflow:\n",
    "\n",
    "1. Examine the webpages and choose one that you want to work with.\n",
    "\n",
    "1. Use Google Chrome's DevTools to inspect the XHR network requests. Find out the API endpoint that serves data to the webpage.\n",
    "\n",
    "1. Test the API endpoint in the browser to verify its data.\n",
    "\n",
    "1. Change the page number offset of the API URL to test if it's working."
   ]
  },
  {
   "cell_type": "code",
   "execution_count": 68,
   "metadata": {},
   "outputs": [
    {
     "data": {
      "text/plain": [
       "'\\nRemettre le headers à chaque fois\\nresponse = requests.get(url, headers={\"user-agent\":\"Mozilla/5.0 (Macintosh; Intel Mac OS X 10_14_5) AppleWebKit/537.36 (KHTML, like Gecko) Chrome/75.0.3770.100 Safari/537.36\"})\\n\\nPour le lab suivant :\\nattention, ne pas écrire le token dans le code\\nle mettre dans un fichier externe à github\\nl\\'appeler avec un open\\n'"
      ]
     },
     "execution_count": 68,
     "metadata": {},
     "output_type": "execute_result"
    }
   ],
   "source": [
    "\"\"\"\n",
    "Remettre le headers à chaque fois\n",
    "response = requests.get(url, headers={\"user-agent\":\"Mozilla/5.0 (Macintosh; Intel Mac OS X 10_14_5) AppleWebKit/537.36 (KHTML, like Gecko) Chrome/75.0.3770.100 Safari/537.36\"})\n",
    "\"\"\""
   ]
  },
  {
   "cell_type": "code",
   "execution_count": 1,
   "metadata": {},
   "outputs": [
    {
     "data": {
      "text/plain": [
       "'\\nhttps://www.zalando.fr/api/catalog/articles?campaigns=fr_ss19_eoss_fs_wave_3_2019_26&categories=femme&limit=84&offset=84&sort=popularity\\n\\n\"user-agent\": \"Mozilla/5.0 (Macintosh; Intel Mac OS X 10_14_5) AppleWebKit/537.36 (KHTML, like Gecko) Chrome/75.0.3770.100 Safari/537.36\"\\n    \\n'"
      ]
     },
     "execution_count": 1,
     "metadata": {},
     "output_type": "execute_result"
    }
   ],
   "source": [
    "# Import libraries.\n",
    "\n",
    "import json\n",
    "import requests\n",
    "import pandas as pd\n",
    "from pandas.io.json import json_normalize\n",
    "\n",
    "\"\"\"\n",
    "https://www.zalando.fr/api/catalog/articles?campaigns=fr_ss19_eoss_fs_wave_3_2019_26&categories=femme&limit=84&offset=84&sort=popularity\n",
    "\n",
    "\"user-agent\": \"Mozilla/5.0 (Macintosh; Intel Mac OS X 10_14_5) AppleWebKit/537.36 (KHTML, like Gecko) Chrome/75.0.3770.100 Safari/537.36\"\n",
    "    \n",
    "\"\"\"    \n",
    "    \n",
    "    "
   ]
  },
  {
   "cell_type": "markdown",
   "metadata": {},
   "source": [
    "## Reading the data\n",
    "\n",
    "In the next cell, use Python to obtain data from the API endpoint you chose in the previous step. Workflow:\n",
    "\n",
    "1. Import libraries.\n",
    "\n",
    "1. Define the initial API endpoint URL.\n",
    "\n",
    "1. Make request to obtain data of the 1st page. Flatten the data and store it in an empty object variable.\n",
    "\n",
    "1. Find out the total page count in the 1st page data.\n",
    "\n",
    "1. Use a FOR loop to make requests for the additional pages from 2 to page count. Append the data of each additional page to the flatterned data object.\n",
    "\n",
    "1. Print and review the data you obtained."
   ]
  },
  {
   "cell_type": "code",
   "execution_count": 67,
   "metadata": {},
   "outputs": [],
   "source": [
    "# Define the initial API endpoint URL.\n",
    "\n",
    "url = 'https://www.zalando.fr/api/catalog/articles?campaigns=fr_ss19_eoss_fs_wave_3_2019_26&categories=femme&limit=84&offset=84&sort=popularity'"
   ]
  },
  {
   "cell_type": "code",
   "execution_count": 3,
   "metadata": {},
   "outputs": [
    {
     "data": {
      "text/html": [
       "<div>\n",
       "<style scoped>\n",
       "    .dataframe tbody tr th:only-of-type {\n",
       "        vertical-align: middle;\n",
       "    }\n",
       "\n",
       "    .dataframe tbody tr th {\n",
       "        vertical-align: top;\n",
       "    }\n",
       "\n",
       "    .dataframe thead th {\n",
       "        text-align: right;\n",
       "    }\n",
       "</style>\n",
       "<table border=\"1\" class=\"dataframe\">\n",
       "  <thead>\n",
       "    <tr style=\"text-align: right;\">\n",
       "      <th></th>\n",
       "      <th>brand_name</th>\n",
       "      <th>family_articles</th>\n",
       "      <th>flags</th>\n",
       "      <th>is_premium</th>\n",
       "      <th>media</th>\n",
       "      <th>name</th>\n",
       "      <th>outfits</th>\n",
       "      <th>price.has_different_original_prices</th>\n",
       "      <th>price.has_different_prices</th>\n",
       "      <th>price.has_different_promotional_prices</th>\n",
       "      <th>price.has_discount_on_selected_sizes_only</th>\n",
       "      <th>price.original</th>\n",
       "      <th>price.promotional</th>\n",
       "      <th>product_group</th>\n",
       "      <th>sizes</th>\n",
       "      <th>sku</th>\n",
       "      <th>url_key</th>\n",
       "    </tr>\n",
       "  </thead>\n",
       "  <tbody>\n",
       "    <tr>\n",
       "      <th>0</th>\n",
       "      <td>Nike Performance</td>\n",
       "      <td>[{'sku': 'N1241A0NO-Q11', 'url_key': 'nike-per...</td>\n",
       "      <td>[{'key': 'discountRate', 'value': '-30%', 'tra...</td>\n",
       "      <td>False</td>\n",
       "      <td>[{'path': 'N1/24/1A/0N/OQ/11/N1241A0NO-Q11@9.1...</td>\n",
       "      <td>REVOLUTION 4 - Chaussures de running neutres -...</td>\n",
       "      <td>NaN</td>\n",
       "      <td>False</td>\n",
       "      <td>False</td>\n",
       "      <td>False</td>\n",
       "      <td>False</td>\n",
       "      <td>49,95 €</td>\n",
       "      <td>35,00 €</td>\n",
       "      <td>shoe</td>\n",
       "      <td>[35.5, 36, 37.5, 38, 38.5, 39, 40, 40.5, 41, 4...</td>\n",
       "      <td>N1241A0NO-Q11</td>\n",
       "      <td>nike-performance-revolution-4-eu-chaussures-de...</td>\n",
       "    </tr>\n",
       "    <tr>\n",
       "      <th>1</th>\n",
       "      <td>ONLY</td>\n",
       "      <td>[{'sku': 'ON321S07Y-A11', 'url_key': 'only-onl...</td>\n",
       "      <td>[{'key': 'discountRate', 'value': '-50%', 'tra...</td>\n",
       "      <td>False</td>\n",
       "      <td>[{'path': 'ON/32/1S/07/YA/11/ON321S07Y-A11@9.1...</td>\n",
       "      <td>ONLNOVA - Short - cloud dancer/white</td>\n",
       "      <td>NaN</td>\n",
       "      <td>False</td>\n",
       "      <td>False</td>\n",
       "      <td>False</td>\n",
       "      <td>False</td>\n",
       "      <td>14,99 €</td>\n",
       "      <td>7,50 €</td>\n",
       "      <td>clothing</td>\n",
       "      <td>[36, 38, 40, 42, 44]</td>\n",
       "      <td>ON321S07Y-A11</td>\n",
       "      <td>only-onlnova-short-on321s07y-a11</td>\n",
       "    </tr>\n",
       "  </tbody>\n",
       "</table>\n",
       "</div>"
      ],
      "text/plain": [
       "         brand_name                                    family_articles  \\\n",
       "0  Nike Performance  [{'sku': 'N1241A0NO-Q11', 'url_key': 'nike-per...   \n",
       "1              ONLY  [{'sku': 'ON321S07Y-A11', 'url_key': 'only-onl...   \n",
       "\n",
       "                                               flags  is_premium  \\\n",
       "0  [{'key': 'discountRate', 'value': '-30%', 'tra...       False   \n",
       "1  [{'key': 'discountRate', 'value': '-50%', 'tra...       False   \n",
       "\n",
       "                                               media  \\\n",
       "0  [{'path': 'N1/24/1A/0N/OQ/11/N1241A0NO-Q11@9.1...   \n",
       "1  [{'path': 'ON/32/1S/07/YA/11/ON321S07Y-A11@9.1...   \n",
       "\n",
       "                                                name outfits  \\\n",
       "0  REVOLUTION 4 - Chaussures de running neutres -...     NaN   \n",
       "1               ONLNOVA - Short - cloud dancer/white     NaN   \n",
       "\n",
       "   price.has_different_original_prices  price.has_different_prices  \\\n",
       "0                                False                       False   \n",
       "1                                False                       False   \n",
       "\n",
       "   price.has_different_promotional_prices  \\\n",
       "0                                   False   \n",
       "1                                   False   \n",
       "\n",
       "   price.has_discount_on_selected_sizes_only price.original price.promotional  \\\n",
       "0                                      False        49,95 €           35,00 €   \n",
       "1                                      False        14,99 €            7,50 €   \n",
       "\n",
       "  product_group                                              sizes  \\\n",
       "0          shoe  [35.5, 36, 37.5, 38, 38.5, 39, 40, 40.5, 41, 4...   \n",
       "1      clothing                               [36, 38, 40, 42, 44]   \n",
       "\n",
       "             sku                                            url_key  \n",
       "0  N1241A0NO-Q11  nike-performance-revolution-4-eu-chaussures-de...  \n",
       "1  ON321S07Y-A11                   only-onlnova-short-on321s07y-a11  "
      ]
     },
     "execution_count": 3,
     "metadata": {},
     "output_type": "execute_result"
    }
   ],
   "source": [
    "# Make request to obtain data of the 1st page. Flatten the data and store it in an empty object variable.\n",
    "\n",
    "response = requests.get(url, headers={\"user-agent\": \"Mozilla/5.0 (Macintosh; Intel Mac OS X 10_14_5) AppleWebKit/537.36 (KHTML, like Gecko) Chrome/75.0.3770.100 Safari/537.36\"})\n",
    "results = response.json()\n",
    "results\n",
    "\n",
    "flattened_data = json_normalize(results)\n",
    "\n",
    "flattened_data1 = json_normalize(flattened_data.articles[0])\n",
    "flattened_data1.head(2)\n"
   ]
  },
  {
   "cell_type": "code",
   "execution_count": 4,
   "metadata": {},
   "outputs": [
    {
     "name": "stdout",
     "output_type": "stream",
     "text": [
      "791\n"
     ]
    }
   ],
   "source": [
    "# Find out the total page count in the 1st page data.\n",
    "\n",
    "total_pages = results['pagination']['page_count']\n",
    "\n",
    "df = pd.DataFrame() \n",
    "\n",
    "print(total_pages)"
   ]
  },
  {
   "cell_type": "code",
   "execution_count": 5,
   "metadata": {},
   "outputs": [
    {
     "data": {
      "text/plain": [
       "'for i in range(total_pages):\\n    k = 84*i\\n    url = f\\'https://www.zalando.fr/api/catalog/articles?campaigns=fr_ss19_eoss_fs_wave_3_2019_26&categories=femme&limit=84&offset=84&sort=popularity\\'\\n    response = requests.get(url, headers={\"user-agent\": \"Mozilla/5.0 (Macintosh; Intel Mac OS X 10_14_5) AppleWebKit/537.36 (KHTML, like Gecko) Chrome/75.0.3770.100 Safari/537.36\"})\\n    results = response.json()\\n    flattened_data = json_normalize(results)\\n    flattened_data1 = json_normalize(flattened_data.articles[0])\\n    flattened_data1 = flattened_data1.set_index(\\'sku\\')\\n    df = df.append(flattened_data1)\\n\\ndf.head()\\n'"
      ]
     },
     "execution_count": 5,
     "metadata": {},
     "output_type": "execute_result"
    }
   ],
   "source": [
    "# Use a FOR loop to make requests for the additional pages from 2 to page count. \n",
    "# Append the data of each additional page to the flatterned data object.\n",
    "\n",
    "\"\"\"for i in range(total_pages):\n",
    "    k = 84*i\n",
    "    url = f'https://www.zalando.fr/api/catalog/articles?campaigns=fr_ss19_eoss_fs_wave_3_2019_26&categories=femme&limit=84&offset=84&sort=popularity'\n",
    "    response = requests.get(url, headers={\"user-agent\": \"Mozilla/5.0 (Macintosh; Intel Mac OS X 10_14_5) AppleWebKit/537.36 (KHTML, like Gecko) Chrome/75.0.3770.100 Safari/537.36\"})\n",
    "    results = response.json()\n",
    "    flattened_data = json_normalize(results)\n",
    "    flattened_data1 = json_normalize(flattened_data.articles[0])\n",
    "    flattened_data1 = flattened_data1.set_index('sku')\n",
    "    df = df.append(flattened_data1)\n",
    "\n",
    "df.head()\n",
    "\"\"\"\n"
   ]
  },
  {
   "cell_type": "code",
   "execution_count": 6,
   "metadata": {},
   "outputs": [
    {
     "data": {
      "text/html": [
       "<div>\n",
       "<style scoped>\n",
       "    .dataframe tbody tr th:only-of-type {\n",
       "        vertical-align: middle;\n",
       "    }\n",
       "\n",
       "    .dataframe tbody tr th {\n",
       "        vertical-align: top;\n",
       "    }\n",
       "\n",
       "    .dataframe thead th {\n",
       "        text-align: right;\n",
       "    }\n",
       "</style>\n",
       "<table border=\"1\" class=\"dataframe\">\n",
       "  <thead>\n",
       "    <tr style=\"text-align: right;\">\n",
       "      <th></th>\n",
       "      <th>brand_name</th>\n",
       "      <th>family_articles</th>\n",
       "      <th>flags</th>\n",
       "      <th>is_premium</th>\n",
       "      <th>media</th>\n",
       "      <th>name</th>\n",
       "      <th>outfits</th>\n",
       "      <th>price.has_different_original_prices</th>\n",
       "      <th>price.has_different_prices</th>\n",
       "      <th>price.has_different_promotional_prices</th>\n",
       "      <th>price.has_discount_on_selected_sizes_only</th>\n",
       "      <th>price.original</th>\n",
       "      <th>price.promotional</th>\n",
       "      <th>product_group</th>\n",
       "      <th>sizes</th>\n",
       "      <th>url_key</th>\n",
       "    </tr>\n",
       "    <tr>\n",
       "      <th>sku</th>\n",
       "      <th></th>\n",
       "      <th></th>\n",
       "      <th></th>\n",
       "      <th></th>\n",
       "      <th></th>\n",
       "      <th></th>\n",
       "      <th></th>\n",
       "      <th></th>\n",
       "      <th></th>\n",
       "      <th></th>\n",
       "      <th></th>\n",
       "      <th></th>\n",
       "      <th></th>\n",
       "      <th></th>\n",
       "      <th></th>\n",
       "      <th></th>\n",
       "    </tr>\n",
       "  </thead>\n",
       "  <tbody>\n",
       "    <tr>\n",
       "      <th>N1241A0NO-Q11</th>\n",
       "      <td>Nike Performance</td>\n",
       "      <td>[{'sku': 'N1241A0NO-Q11', 'url_key': 'nike-per...</td>\n",
       "      <td>[{'key': 'discountRate', 'value': '-30%', 'tra...</td>\n",
       "      <td>False</td>\n",
       "      <td>[{'path': 'N1/24/1A/0N/OQ/11/N1241A0NO-Q11@9.1...</td>\n",
       "      <td>REVOLUTION 4 - Chaussures de running neutres -...</td>\n",
       "      <td>NaN</td>\n",
       "      <td>False</td>\n",
       "      <td>False</td>\n",
       "      <td>False</td>\n",
       "      <td>False</td>\n",
       "      <td>49,95 €</td>\n",
       "      <td>35,00 €</td>\n",
       "      <td>shoe</td>\n",
       "      <td>[35.5, 36, 37.5, 38, 38.5, 39, 40, 40.5, 41, 4...</td>\n",
       "      <td>nike-performance-revolution-4-eu-chaussures-de...</td>\n",
       "    </tr>\n",
       "    <tr>\n",
       "      <th>ON321S07Y-A11</th>\n",
       "      <td>ONLY</td>\n",
       "      <td>[{'sku': 'ON321S07Y-A11', 'url_key': 'only-onl...</td>\n",
       "      <td>[{'key': 'discountRate', 'value': '-50%', 'tra...</td>\n",
       "      <td>False</td>\n",
       "      <td>[{'path': 'ON/32/1S/07/YA/11/ON321S07Y-A11@9.1...</td>\n",
       "      <td>ONLNOVA - Short - cloud dancer/white</td>\n",
       "      <td>NaN</td>\n",
       "      <td>False</td>\n",
       "      <td>False</td>\n",
       "      <td>False</td>\n",
       "      <td>False</td>\n",
       "      <td>14,99 €</td>\n",
       "      <td>7,50 €</td>\n",
       "      <td>clothing</td>\n",
       "      <td>[36, 38, 40, 42, 44]</td>\n",
       "      <td>only-onlnova-short-on321s07y-a11</td>\n",
       "    </tr>\n",
       "  </tbody>\n",
       "</table>\n",
       "</div>"
      ],
      "text/plain": [
       "                     brand_name  \\\n",
       "sku                               \n",
       "N1241A0NO-Q11  Nike Performance   \n",
       "ON321S07Y-A11              ONLY   \n",
       "\n",
       "                                                 family_articles  \\\n",
       "sku                                                                \n",
       "N1241A0NO-Q11  [{'sku': 'N1241A0NO-Q11', 'url_key': 'nike-per...   \n",
       "ON321S07Y-A11  [{'sku': 'ON321S07Y-A11', 'url_key': 'only-onl...   \n",
       "\n",
       "                                                           flags  is_premium  \\\n",
       "sku                                                                            \n",
       "N1241A0NO-Q11  [{'key': 'discountRate', 'value': '-30%', 'tra...       False   \n",
       "ON321S07Y-A11  [{'key': 'discountRate', 'value': '-50%', 'tra...       False   \n",
       "\n",
       "                                                           media  \\\n",
       "sku                                                                \n",
       "N1241A0NO-Q11  [{'path': 'N1/24/1A/0N/OQ/11/N1241A0NO-Q11@9.1...   \n",
       "ON321S07Y-A11  [{'path': 'ON/32/1S/07/YA/11/ON321S07Y-A11@9.1...   \n",
       "\n",
       "                                                            name outfits  \\\n",
       "sku                                                                        \n",
       "N1241A0NO-Q11  REVOLUTION 4 - Chaussures de running neutres -...     NaN   \n",
       "ON321S07Y-A11               ONLNOVA - Short - cloud dancer/white     NaN   \n",
       "\n",
       "               price.has_different_original_prices  \\\n",
       "sku                                                  \n",
       "N1241A0NO-Q11                                False   \n",
       "ON321S07Y-A11                                False   \n",
       "\n",
       "               price.has_different_prices  \\\n",
       "sku                                         \n",
       "N1241A0NO-Q11                       False   \n",
       "ON321S07Y-A11                       False   \n",
       "\n",
       "               price.has_different_promotional_prices  \\\n",
       "sku                                                     \n",
       "N1241A0NO-Q11                                   False   \n",
       "ON321S07Y-A11                                   False   \n",
       "\n",
       "               price.has_discount_on_selected_sizes_only price.original  \\\n",
       "sku                                                                       \n",
       "N1241A0NO-Q11                                      False        49,95 €   \n",
       "ON321S07Y-A11                                      False        14,99 €   \n",
       "\n",
       "              price.promotional product_group  \\\n",
       "sku                                             \n",
       "N1241A0NO-Q11           35,00 €          shoe   \n",
       "ON321S07Y-A11            7,50 €      clothing   \n",
       "\n",
       "                                                           sizes  \\\n",
       "sku                                                                \n",
       "N1241A0NO-Q11  [35.5, 36, 37.5, 38, 38.5, 39, 40, 40.5, 41, 4...   \n",
       "ON321S07Y-A11                               [36, 38, 40, 42, 44]   \n",
       "\n",
       "                                                         url_key  \n",
       "sku                                                               \n",
       "N1241A0NO-Q11  nike-performance-revolution-4-eu-chaussures-de...  \n",
       "ON321S07Y-A11                   only-onlnova-short-on321s07y-a11  "
      ]
     },
     "execution_count": 6,
     "metadata": {},
     "output_type": "execute_result"
    }
   ],
   "source": [
    "dfmini = pd.DataFrame() \n",
    "\n",
    "for i in range(13):\n",
    "    k = 84*i\n",
    "    url = f'https://www.zalando.fr/api/catalog/articles?campaigns=fr_ss19_eoss_fs_wave_3_2019_26&categories=femme&limit=84&offset=84&sort=popularity'\n",
    "    response = requests.get(url, headers={\"user-agent\": \"Mozilla/5.0 (Macintosh; Intel Mac OS X 10_14_5) AppleWebKit/537.36 (KHTML, like Gecko) Chrome/75.0.3770.100 Safari/537.36\"})\n",
    "    results = response.json()\n",
    "    flattened_data = json_normalize(results)\n",
    "    flattened_data1 = json_normalize(flattened_data.articles[0])\n",
    "    flattened_data1 = flattened_data1.set_index('sku')\n",
    "    dfmini = dfmini.append(flattened_data1)\n",
    "\n",
    "dfmini.head(2)\n"
   ]
  },
  {
   "cell_type": "markdown",
   "metadata": {},
   "source": [
    "## Bonus\n",
    "\n",
    "Extract the following information from the data:\n",
    "\n",
    "* The trending brand.\n",
    "\n",
    "* The product(s) with the highest discount.\n",
    "\n",
    "* The sum of discounts of all goods (sum_discounted_prices divided by sum_original_prices)."
   ]
  },
  {
   "cell_type": "code",
   "execution_count": 7,
   "metadata": {
    "scrolled": true
   },
   "outputs": [
    {
     "name": "stdout",
     "output_type": "stream",
     "text": [
      "4th & Reckless\n",
      "Calvin Klein Swimwear\n",
      "Carhartt WIP\n",
      "Converse\n",
      "Dorothy Perkins\n",
      "Dorothy Perkins Wide Fit\n",
      "Espadrij l´originale\n",
      "Esprit\n",
      "Even&Odd\n",
      "Fila\n",
      "Glamorous\n",
      "Hollister Co.\n",
      "JDY\n",
      "KIOMI\n",
      "Lacoste\n",
      "Levi's®\n",
      "Missguided\n",
      "New Look\n",
      "New Look Petite\n",
      "Nike Performance\n",
      "Nike Sportswear\n",
      "Noisy May\n",
      "ONLY\n",
      "ONLY Petite\n",
      "Pepe Jeans\n",
      "Polo Ralph Lauren\n",
      "Puma\n",
      "RAID\n",
      "TWINTIP\n",
      "Tommy Hilfiger\n",
      "Tommy Jeans\n",
      "Topshop\n",
      "Vero Moda\n",
      "Vero Moda Petite\n",
      "Vila\n",
      "YAS\n",
      "adidas Originals\n",
      "edc by Esprit\n",
      "mint&berry\n"
     ]
    }
   ],
   "source": [
    "# The trending brand.\n",
    "\n",
    "# Toutes les marques (dans dfmini)\n",
    "for i in sorted(set(dfmini['brand_name'])):\n",
    "    print(i)\n",
    "    "
   ]
  },
  {
   "cell_type": "code",
   "execution_count": 8,
   "metadata": {},
   "outputs": [
    {
     "data": {
      "text/plain": [
       "'Nike Sportswear'"
      ]
     },
     "execution_count": 8,
     "metadata": {},
     "output_type": "execute_result"
    }
   ],
   "source": [
    "# Marque avec le plus d'articles (dans dfmini)\n",
    "\n",
    "dfmini['brand_name'].value_counts().index[0]"
   ]
  },
  {
   "cell_type": "code",
   "execution_count": 9,
   "metadata": {},
   "outputs": [
    {
     "data": {
      "text/html": [
       "<div>\n",
       "<style scoped>\n",
       "    .dataframe tbody tr th:only-of-type {\n",
       "        vertical-align: middle;\n",
       "    }\n",
       "\n",
       "    .dataframe tbody tr th {\n",
       "        vertical-align: top;\n",
       "    }\n",
       "\n",
       "    .dataframe thead th {\n",
       "        text-align: right;\n",
       "    }\n",
       "</style>\n",
       "<table border=\"1\" class=\"dataframe\">\n",
       "  <thead>\n",
       "    <tr style=\"text-align: right;\">\n",
       "      <th></th>\n",
       "      <th>brand_name</th>\n",
       "      <th>family_articles</th>\n",
       "      <th>flags</th>\n",
       "      <th>is_premium</th>\n",
       "      <th>media</th>\n",
       "      <th>name</th>\n",
       "      <th>outfits</th>\n",
       "      <th>price.has_different_original_prices</th>\n",
       "      <th>price.has_different_prices</th>\n",
       "      <th>price.has_different_promotional_prices</th>\n",
       "      <th>price.has_discount_on_selected_sizes_only</th>\n",
       "      <th>price.original</th>\n",
       "      <th>price.promotional</th>\n",
       "      <th>product_group</th>\n",
       "      <th>sizes</th>\n",
       "      <th>url_key</th>\n",
       "    </tr>\n",
       "    <tr>\n",
       "      <th>sku</th>\n",
       "      <th></th>\n",
       "      <th></th>\n",
       "      <th></th>\n",
       "      <th></th>\n",
       "      <th></th>\n",
       "      <th></th>\n",
       "      <th></th>\n",
       "      <th></th>\n",
       "      <th></th>\n",
       "      <th></th>\n",
       "      <th></th>\n",
       "      <th></th>\n",
       "      <th></th>\n",
       "      <th></th>\n",
       "      <th></th>\n",
       "      <th></th>\n",
       "    </tr>\n",
       "  </thead>\n",
       "  <tbody>\n",
       "    <tr>\n",
       "      <th>N1241A0NO-Q11</th>\n",
       "      <td>Nike Performance</td>\n",
       "      <td>[{'sku': 'N1241A0NO-Q11', 'url_key': 'nike-per...</td>\n",
       "      <td>[{'key': 'discountRate', 'value': '-30%', 'tra...</td>\n",
       "      <td>False</td>\n",
       "      <td>[{'path': 'N1/24/1A/0N/OQ/11/N1241A0NO-Q11@9.1...</td>\n",
       "      <td>REVOLUTION 4 - Chaussures de running neutres -...</td>\n",
       "      <td>NaN</td>\n",
       "      <td>False</td>\n",
       "      <td>False</td>\n",
       "      <td>False</td>\n",
       "      <td>False</td>\n",
       "      <td>49,95 €</td>\n",
       "      <td>35,00 €</td>\n",
       "      <td>shoe</td>\n",
       "      <td>[35.5, 36, 37.5, 38, 38.5, 39, 40, 40.5, 41, 4...</td>\n",
       "      <td>nike-performance-revolution-4-eu-chaussures-de...</td>\n",
       "    </tr>\n",
       "    <tr>\n",
       "      <th>ON321S07Y-A11</th>\n",
       "      <td>ONLY</td>\n",
       "      <td>[{'sku': 'ON321S07Y-A11', 'url_key': 'only-onl...</td>\n",
       "      <td>[{'key': 'discountRate', 'value': '-50%', 'tra...</td>\n",
       "      <td>False</td>\n",
       "      <td>[{'path': 'ON/32/1S/07/YA/11/ON321S07Y-A11@9.1...</td>\n",
       "      <td>ONLNOVA - Short - cloud dancer/white</td>\n",
       "      <td>NaN</td>\n",
       "      <td>False</td>\n",
       "      <td>False</td>\n",
       "      <td>False</td>\n",
       "      <td>False</td>\n",
       "      <td>14,99 €</td>\n",
       "      <td>7,50 €</td>\n",
       "      <td>clothing</td>\n",
       "      <td>[36, 38, 40, 42, 44]</td>\n",
       "      <td>only-onlnova-short-on321s07y-a11</td>\n",
       "    </tr>\n",
       "  </tbody>\n",
       "</table>\n",
       "</div>"
      ],
      "text/plain": [
       "                     brand_name  \\\n",
       "sku                               \n",
       "N1241A0NO-Q11  Nike Performance   \n",
       "ON321S07Y-A11              ONLY   \n",
       "\n",
       "                                                 family_articles  \\\n",
       "sku                                                                \n",
       "N1241A0NO-Q11  [{'sku': 'N1241A0NO-Q11', 'url_key': 'nike-per...   \n",
       "ON321S07Y-A11  [{'sku': 'ON321S07Y-A11', 'url_key': 'only-onl...   \n",
       "\n",
       "                                                           flags  is_premium  \\\n",
       "sku                                                                            \n",
       "N1241A0NO-Q11  [{'key': 'discountRate', 'value': '-30%', 'tra...       False   \n",
       "ON321S07Y-A11  [{'key': 'discountRate', 'value': '-50%', 'tra...       False   \n",
       "\n",
       "                                                           media  \\\n",
       "sku                                                                \n",
       "N1241A0NO-Q11  [{'path': 'N1/24/1A/0N/OQ/11/N1241A0NO-Q11@9.1...   \n",
       "ON321S07Y-A11  [{'path': 'ON/32/1S/07/YA/11/ON321S07Y-A11@9.1...   \n",
       "\n",
       "                                                            name outfits  \\\n",
       "sku                                                                        \n",
       "N1241A0NO-Q11  REVOLUTION 4 - Chaussures de running neutres -...     NaN   \n",
       "ON321S07Y-A11               ONLNOVA - Short - cloud dancer/white     NaN   \n",
       "\n",
       "               price.has_different_original_prices  \\\n",
       "sku                                                  \n",
       "N1241A0NO-Q11                                False   \n",
       "ON321S07Y-A11                                False   \n",
       "\n",
       "               price.has_different_prices  \\\n",
       "sku                                         \n",
       "N1241A0NO-Q11                       False   \n",
       "ON321S07Y-A11                       False   \n",
       "\n",
       "               price.has_different_promotional_prices  \\\n",
       "sku                                                     \n",
       "N1241A0NO-Q11                                   False   \n",
       "ON321S07Y-A11                                   False   \n",
       "\n",
       "               price.has_discount_on_selected_sizes_only price.original  \\\n",
       "sku                                                                       \n",
       "N1241A0NO-Q11                                      False        49,95 €   \n",
       "ON321S07Y-A11                                      False        14,99 €   \n",
       "\n",
       "              price.promotional product_group  \\\n",
       "sku                                             \n",
       "N1241A0NO-Q11           35,00 €          shoe   \n",
       "ON321S07Y-A11            7,50 €      clothing   \n",
       "\n",
       "                                                           sizes  \\\n",
       "sku                                                                \n",
       "N1241A0NO-Q11  [35.5, 36, 37.5, 38, 38.5, 39, 40, 40.5, 41, 4...   \n",
       "ON321S07Y-A11                               [36, 38, 40, 42, 44]   \n",
       "\n",
       "                                                         url_key  \n",
       "sku                                                               \n",
       "N1241A0NO-Q11  nike-performance-revolution-4-eu-chaussures-de...  \n",
       "ON321S07Y-A11                   only-onlnova-short-on321s07y-a11  "
      ]
     },
     "execution_count": 9,
     "metadata": {},
     "output_type": "execute_result"
    }
   ],
   "source": [
    "dfmini.head(2)"
   ]
  },
  {
   "cell_type": "code",
   "execution_count": 12,
   "metadata": {},
   "outputs": [
    {
     "data": {
      "text/plain": [
       "price.original       object\n",
       "price.promotional    object\n",
       "dtype: object"
      ]
     },
     "execution_count": 12,
     "metadata": {},
     "output_type": "execute_result"
    }
   ],
   "source": [
    "# The product(s) with the highest discount.\n",
    "\n",
    "# Ici on change les string en float\n",
    "\n",
    "dfmini['price.original']= dfmini['price.original'].str.extract('(\\d*,\\d*)')\n",
    "dfmini['price.promotional'] = dfmini['price.promotional'].str.extract('(\\d*,\\d*)')\n",
    "\n",
    "dfmini[['price.original', 'price.promotional']].head(2).dtypes"
   ]
  },
  {
   "cell_type": "code",
   "execution_count": 13,
   "metadata": {},
   "outputs": [
    {
     "data": {
      "text/plain": [
       "price.original       object\n",
       "price.promotional    object\n",
       "dtype: object"
      ]
     },
     "execution_count": 13,
     "metadata": {},
     "output_type": "execute_result"
    }
   ],
   "source": [
    "dfmini['price.original'] = [x.replace(',', '.') for x in dfmini['price.original']]\n",
    "dfmini['price.promotional'] = [x.replace(',', '.') for x in dfmini['price.promotional']]\n",
    "\n",
    "dfmini[['price.original', 'price.promotional']].head(2).dtypes"
   ]
  },
  {
   "cell_type": "code",
   "execution_count": 14,
   "metadata": {},
   "outputs": [
    {
     "data": {
      "text/plain": [
       "discount_amount      float64\n",
       "price.original        object\n",
       "price.promotional     object\n",
       "dtype: object"
      ]
     },
     "execution_count": 14,
     "metadata": {},
     "output_type": "execute_result"
    }
   ],
   "source": [
    "#--------\n",
    "\n",
    "dfmini['discount_amount'] = dfmini['price.original'].astype(float) - dfmini['price.promotional'].astype(float)\n",
    "\n",
    "df1 = dfmini.copy()\n",
    "\n",
    "dfmini[['discount_amount', 'price.original', 'price.promotional']].dtypes"
   ]
  },
  {
   "cell_type": "code",
   "execution_count": 20,
   "metadata": {},
   "outputs": [
    {
     "data": {
      "text/plain": [
       "dtype('float64')"
      ]
     },
     "execution_count": 20,
     "metadata": {},
     "output_type": "execute_result"
    }
   ],
   "source": [
    "#--------\n",
    "\n",
    "total_disc = df1.groupby(['brand_name']).sum().discount_amount\n",
    "\n",
    "total_disc.dtypes"
   ]
  },
  {
   "cell_type": "code",
   "execution_count": 21,
   "metadata": {},
   "outputs": [
    {
     "data": {
      "text/plain": [
       "brand_name\n",
       "Nike Sportswear      3914.17\n",
       "Polo Ralph Lauren    2442.70\n",
       "Levi's®              1546.35\n",
       "ONLY                  993.20\n",
       "New Look              879.97\n",
       "Name: discount_amount, dtype: float64"
      ]
     },
     "execution_count": 21,
     "metadata": {},
     "output_type": "execute_result"
    }
   ],
   "source": [
    "#--------\n",
    "\n",
    "total_disc.sort_values(ascending=False).head()"
   ]
  },
  {
   "cell_type": "code",
   "execution_count": 22,
   "metadata": {},
   "outputs": [
    {
     "data": {
      "text/plain": [
       "'Nike Sportswear'"
      ]
     },
     "execution_count": 22,
     "metadata": {},
     "output_type": "execute_result"
    }
   ],
   "source": [
    "total_disc.sort_values(ascending=False).index[0]"
   ]
  },
  {
   "cell_type": "code",
   "execution_count": 66,
   "metadata": {
    "scrolled": true
   },
   "outputs": [
    {
     "data": {
      "text/plain": [
       "0.59"
      ]
     },
     "execution_count": 66,
     "metadata": {},
     "output_type": "execute_result"
    }
   ],
   "source": [
    "# The sum of discounts of all goods \n",
    "# (sum_discounted_prices divided by sum_original_prices).\n",
    "\n",
    "sum_original_prices = dfmini['price.original'].astype(float).sum()\n",
    "sum_discounted_prices = dfmini['price.promotional'].astype(float).sum()\n",
    "\n",
    "discount_all_goods = round(sum_discounted_prices / sum_original_prices, 2)\n",
    "\n",
    "discount_all_goods"
   ]
  },
  {
   "cell_type": "code",
   "execution_count": 42,
   "metadata": {},
   "outputs": [
    {
     "data": {
      "text/html": [
       "<div>\n",
       "<style scoped>\n",
       "    .dataframe tbody tr th:only-of-type {\n",
       "        vertical-align: middle;\n",
       "    }\n",
       "\n",
       "    .dataframe tbody tr th {\n",
       "        vertical-align: top;\n",
       "    }\n",
       "\n",
       "    .dataframe thead th {\n",
       "        text-align: right;\n",
       "    }\n",
       "</style>\n",
       "<table border=\"1\" class=\"dataframe\">\n",
       "  <thead>\n",
       "    <tr style=\"text-align: right;\">\n",
       "      <th></th>\n",
       "      <th>brand_name</th>\n",
       "      <th>family_articles</th>\n",
       "      <th>flags</th>\n",
       "      <th>is_premium</th>\n",
       "      <th>media</th>\n",
       "      <th>name</th>\n",
       "      <th>outfits</th>\n",
       "      <th>price.has_different_original_prices</th>\n",
       "      <th>price.has_different_prices</th>\n",
       "      <th>price.has_different_promotional_prices</th>\n",
       "      <th>price.has_discount_on_selected_sizes_only</th>\n",
       "      <th>price.original</th>\n",
       "      <th>price.promotional</th>\n",
       "      <th>product_group</th>\n",
       "      <th>sizes</th>\n",
       "      <th>url_key</th>\n",
       "      <th>discount_amount</th>\n",
       "    </tr>\n",
       "    <tr>\n",
       "      <th>sku</th>\n",
       "      <th></th>\n",
       "      <th></th>\n",
       "      <th></th>\n",
       "      <th></th>\n",
       "      <th></th>\n",
       "      <th></th>\n",
       "      <th></th>\n",
       "      <th></th>\n",
       "      <th></th>\n",
       "      <th></th>\n",
       "      <th></th>\n",
       "      <th></th>\n",
       "      <th></th>\n",
       "      <th></th>\n",
       "      <th></th>\n",
       "      <th></th>\n",
       "      <th></th>\n",
       "    </tr>\n",
       "  </thead>\n",
       "  <tbody>\n",
       "  </tbody>\n",
       "</table>\n",
       "</div>"
      ],
      "text/plain": [
       "Empty DataFrame\n",
       "Columns: [brand_name, family_articles, flags, is_premium, media, name, outfits, price.has_different_original_prices, price.has_different_prices, price.has_different_promotional_prices, price.has_discount_on_selected_sizes_only, price.original, price.promotional, product_group, sizes, url_key, discount_amount]\n",
       "Index: []"
      ]
     },
     "execution_count": 42,
     "metadata": {},
     "output_type": "execute_result"
    }
   ],
   "source": [
    "dfmini.head(0)"
   ]
  },
  {
   "cell_type": "code",
   "execution_count": null,
   "metadata": {},
   "outputs": [],
   "source": []
  },
  {
   "cell_type": "code",
   "execution_count": null,
   "metadata": {},
   "outputs": [],
   "source": []
  }
 ],
 "metadata": {
  "kernelspec": {
   "display_name": "Python 3",
   "language": "python",
   "name": "python3"
  },
  "language_info": {
   "codemirror_mode": {
    "name": "ipython",
    "version": 3
   },
   "file_extension": ".py",
   "mimetype": "text/x-python",
   "name": "python",
   "nbconvert_exporter": "python",
   "pygments_lexer": "ipython3",
   "version": "3.7.3"
  }
 },
 "nbformat": 4,
 "nbformat_minor": 2
}
