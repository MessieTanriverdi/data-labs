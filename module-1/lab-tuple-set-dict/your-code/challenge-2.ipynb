{
 "cells": [
  {
   "cell_type": "markdown",
   "metadata": {},
   "source": [
    "## Challenge 2: Sets\n",
    "\n",
    "There are a lot to learn about Python Sets and the information presented in the lesson is limited due to its length. To learn Python Sets in depth you are strongly encouraged to review the W3Schools tutorial on [Python Sets Examples and Methods](https://www.w3schools.com/python/python_sets.asp) before you work on this lab. Some difficult questions in this lab have their solutions in the W3Schools tutorial.\n",
    "\n",
    "#### First, import the Python `random` libary"
   ]
  },
  {
   "cell_type": "code",
   "execution_count": 53,
   "metadata": {},
   "outputs": [],
   "source": [
    "import random"
   ]
  },
  {
   "cell_type": "markdown",
   "metadata": {},
   "source": [
    "#### In the cell below, create a list named `sample_list_1` with 80 random values. \n",
    "\n",
    "Requirements:\n",
    "\n",
    "* Each value is an integer falling between 0 and 100.\n",
    "* Each value in the list is unique.\n",
    "\n",
    "Print `sample_list_1` to review its values\n",
    "\n",
    "*Hint: use `random.sample` ([reference](https://docs.python.org/3/library/random.html#random.sample)).*"
   ]
  },
  {
   "cell_type": "code",
   "execution_count": 152,
   "metadata": {
    "scrolled": true
   },
   "outputs": [
    {
     "name": "stdout",
     "output_type": "stream",
     "text": [
      "[64, 38, 9, 4, 20, 26, 31, 25, 85, 41, 97, 15, 19, 35, 67, 84, 74, 52, 43, 46, 79, 22, 58, 77, 40, 92, 6, 36, 14, 1, 50, 29, 49, 76, 99, 55, 18, 16, 88, 3, 63, 75, 11, 53, 81, 62, 70, 34, 45, 72, 7, 28, 61, 13, 87, 59, 0, 2, 17, 8, 5, 93, 23, 91, 33, 82, 10, 60, 73, 95, 90, 21, 24, 65, 57, 27, 78, 39, 94, 37]\n",
      "\n",
      "Length :  80\n"
     ]
    }
   ],
   "source": [
    "# Your code here\n",
    "\n",
    "sample_list_1 = random.sample(range(0, 100), 80)\n",
    "\n",
    "print(sample_list_1)\n",
    "print(\"\\nLength : \", len(sample_list_1))"
   ]
  },
  {
   "cell_type": "markdown",
   "metadata": {},
   "source": [
    "#### Convert `sample_list_1` to a set called `set1`. Print the length of the set. Is its length still 80?"
   ]
  },
  {
   "cell_type": "code",
   "execution_count": 153,
   "metadata": {},
   "outputs": [
    {
     "name": "stdout",
     "output_type": "stream",
     "text": [
      "{0, 1, 2, 3, 4, 5, 6, 7, 8, 9, 10, 11, 13, 14, 15, 16, 17, 18, 19, 20, 21, 22, 23, 24, 25, 26, 27, 28, 29, 31, 33, 34, 35, 36, 37, 38, 39, 40, 41, 43, 45, 46, 49, 50, 52, 53, 55, 57, 58, 59, 60, 61, 62, 63, 64, 65, 67, 70, 72, 73, 74, 75, 76, 77, 78, 79, 81, 82, 84, 85, 87, 88, 90, 91, 92, 93, 94, 95, 97, 99}\n",
      "\n",
      "The length is still 80\n"
     ]
    }
   ],
   "source": [
    "# Your code here\n",
    "set1 = set(sample_list_1)\n",
    "\n",
    "print(set1)\n",
    "\n",
    "if len(set1) == 80:\n",
    "    print(\"\\nThe length is still 80\")\n",
    "else:\n",
    "    print(\"\\nThe length is not 80 anymore, it's\", len(set1))"
   ]
  },
  {
   "cell_type": "markdown",
   "metadata": {},
   "source": [
    "#### Create another list named `sample_list_2` with 80 random values.\n",
    "\n",
    "Requirements:\n",
    "\n",
    "* Each value is an integer falling between 0 and 100.\n",
    "* The values in the list don't have to be unique.\n",
    "\n",
    "*Hint: Use a FOR loop.*"
   ]
  },
  {
   "cell_type": "code",
   "execution_count": 154,
   "metadata": {},
   "outputs": [
    {
     "name": "stdout",
     "output_type": "stream",
     "text": [
      "[30, 28, 48, 76, 86, 0, 26, 16, 56, 93, 58, 15, 52, 88, 20, 17, 86, 98, 72, 17, 26, 30, 78, 27, 13, 4, 99, 44, 87, 27, 81, 49, 96, 28, 5, 10, 35, 0, 54, 73, 12, 47, 83, 83, 25, 52, 25, 18, 16, 52, 52, 28, 4, 99, 20, 30, 20, 44, 33, 28, 69, 60, 22, 82, 5, 65, 50, 38, 59, 52, 11, 58, 0, 20, 30, 30, 54, 27, 13, 72]\n",
      "\n",
      "Length :  80\n"
     ]
    }
   ],
   "source": [
    "# Your code here\n",
    "\n",
    "sample_list_2 = []\n",
    "\n",
    "for i in range(0, 80):\n",
    "    sample_list_2.append(random.randint(0, 100))\n",
    "\n",
    "print(sample_list_2)\n",
    "print(\"\\nLength : \", len(sample_list_2))"
   ]
  },
  {
   "cell_type": "markdown",
   "metadata": {},
   "source": [
    "#### Convert `sample_list_2` to a set called `set2`. Print the length of the set. Is its length still 80?"
   ]
  },
  {
   "cell_type": "code",
   "execution_count": 155,
   "metadata": {},
   "outputs": [
    {
     "name": "stdout",
     "output_type": "stream",
     "text": [
      "{0, 4, 5, 10, 11, 12, 13, 15, 16, 17, 18, 20, 22, 25, 26, 27, 28, 30, 33, 35, 38, 44, 47, 48, 49, 50, 52, 54, 56, 58, 59, 60, 65, 69, 72, 73, 76, 78, 81, 82, 83, 86, 87, 88, 93, 96, 98, 99}\n",
      "\n",
      "The length is not 80 anymore, it's 48\n"
     ]
    }
   ],
   "source": [
    "set2 = set(sample_list_2)\n",
    "\n",
    "print(set2)\n",
    "\n",
    "if len(set2) == 80:\n",
    "    print(\"\\nThe length is still 80\")\n",
    "else:\n",
    "    print(\"\\nThe length is not 80 anymore, it's\", len(set2))"
   ]
  },
  {
   "cell_type": "markdown",
   "metadata": {},
   "source": [
    "#### Identify the elements present in `set1` but not in `set2`. Assign the elements to a new set named `set3`."
   ]
  },
  {
   "cell_type": "code",
   "execution_count": 156,
   "metadata": {},
   "outputs": [
    {
     "name": "stdout",
     "output_type": "stream",
     "text": [
      "Elements present in set1 but not int set2 : \n",
      " {1, 2, 3, 6, 7, 8, 9, 14, 19, 21, 23, 24, 29, 31, 34, 36, 37, 39, 40, 41, 43, 45, 46, 53, 55, 57, 61, 62, 63, 64, 67, 70, 74, 75, 77, 79, 84, 85, 90, 91, 92, 94, 95, 97}\n",
      "\n",
      "Length :  44\n"
     ]
    }
   ],
   "source": [
    "# Your code here\n",
    "set3 = set()\n",
    "\n",
    "for x in set1:\n",
    "    if x not in set2:\n",
    "        set3.add(x)\n",
    "        \n",
    "print(\"Elements present in set1 but not int set2 : \\n\", set3)\n",
    "print(\"\\nLength : \", len(set3))"
   ]
  },
  {
   "cell_type": "markdown",
   "metadata": {},
   "source": [
    "#### Identify the elements present in `set2` but not in `set1`. Assign the elements to a new set named `set4`."
   ]
  },
  {
   "cell_type": "code",
   "execution_count": 157,
   "metadata": {},
   "outputs": [
    {
     "name": "stdout",
     "output_type": "stream",
     "text": [
      "Elements present in set2 but not int set1 : \n",
      " {96, 98, 69, 12, 44, 47, 48, 83, 54, 86, 56, 30}\n",
      "\n",
      "Length :  12\n"
     ]
    }
   ],
   "source": [
    "# Your code here\n",
    "set4 = set()\n",
    "\n",
    "for i in set2:\n",
    "    if i not in set1:\n",
    "        set4.add(i)\n",
    "        \n",
    "print(\"Elements present in set2 but not int set1 : \\n\", set4)\n",
    "print(\"\\nLength : \", len(set4))"
   ]
  },
  {
   "cell_type": "markdown",
   "metadata": {},
   "source": [
    "#### Now Identify the elements shared between `set1` and `set2`. Assign the elements to a new set named `set5`."
   ]
  },
  {
   "cell_type": "code",
   "execution_count": 158,
   "metadata": {},
   "outputs": [
    {
     "name": "stdout",
     "output_type": "stream",
     "text": [
      "Elements in set1 and in set2 : \n",
      " {0, 4, 5, 10, 11, 13, 15, 16, 17, 18, 20, 22, 25, 26, 27, 28, 33, 35, 38, 49, 50, 52, 58, 59, 60, 65, 72, 73, 76, 78, 81, 82, 87, 88, 93, 99}\n",
      "\n",
      "Length :  36\n"
     ]
    }
   ],
   "source": [
    "# Your code here\n",
    "set5 = set()\n",
    "\n",
    "if len(set1)>=len(set2):\n",
    "    elu = set1\n",
    "else:\n",
    "    elu = set2\n",
    "    \n",
    "for i in elu:\n",
    "    if i in set1 and i in set2:\n",
    "        set5.add(i)\n",
    "\n",
    "print(\"Elements in set1 and in set2 : \\n\", set5)\n",
    "print(\"\\nLength : \", len(set5))"
   ]
  },
  {
   "cell_type": "markdown",
   "metadata": {},
   "source": [
    "#### What is the relationship among the following values:\n",
    "\n",
    "* len(set1)\n",
    "* len(set2)\n",
    "* len(set3)\n",
    "* len(set4)\n",
    "* len(set5)\n",
    "\n",
    "Use a math formular to represent that relationship. Test your formular with Python code."
   ]
  },
  {
   "cell_type": "code",
   "execution_count": 159,
   "metadata": {},
   "outputs": [
    {
     "name": "stdout",
     "output_type": "stream",
     "text": [
      "len(set1) =  80\n",
      "len(set2) =  48\n",
      "\n",
      "\tlen(set3) =  44\n",
      "set3 contains the elements present in set1 but not in set2\n",
      "Following this, the elements that are present in set1 and in set3 must be len(set1)-len(set3) =  36\n",
      "\n",
      "\tlen(set4) =  12\n",
      "set4 contains the elements present in set2 but not in set1\n",
      "Following this, the elements that are present in set1 and in set3 must be len(set2)-len(set4) =  36\n",
      "\n",
      "\tlen(set5) =  36\n",
      "set5 contains the elements present in both set1 and set2\n",
      "\n",
      "len(set5) = len(set1)-len(set3) =  36\n",
      "len(set5) = len(set2)-len(set4) =  36\n"
     ]
    }
   ],
   "source": [
    "# Your code here\n",
    "print(\"len(set1) = \", len(set1))\n",
    "print(\"len(set2) = \", len(set2))\n",
    "\n",
    "print(\"\\n\\tlen(set3) = \", len(set3))\n",
    "print(\"set3 contains the elements present in set1 but not in set2\")\n",
    "print(\"Following this, the elements that are present in set1 and in set3 must be len(set1)-len(set3) = \", len(set1)-len(set3))\n",
    "\n",
    "print(\"\\n\\tlen(set4) = \", len(set4))\n",
    "print(\"set4 contains the elements present in set2 but not in set1\")\n",
    "print(\"Following this, the elements that are present in set1 and in set3 must be len(set2)-len(set4) = \", len(set2)-len(set4))\n",
    "\n",
    "print(\"\\n\\tlen(set5) = \", len(set5))\n",
    "print(\"set5 contains the elements present in both set1 and set2\")\n",
    "\n",
    "print(\"\\nlen(set5) = len(set1)-len(set3) = \", len(set1)-len(set3))\n",
    "print(\"len(set5) = len(set2)-len(set4) = \", len(set2)-len(set4))\n",
    "\n"
   ]
  },
  {
   "cell_type": "markdown",
   "metadata": {},
   "source": [
    "#### Create an empty set called `set6`."
   ]
  },
  {
   "cell_type": "code",
   "execution_count": 160,
   "metadata": {},
   "outputs": [
    {
     "name": "stdout",
     "output_type": "stream",
     "text": [
      "set()\n"
     ]
    }
   ],
   "source": [
    "# Your code here\n",
    "set6 = set()\n",
    "\n",
    "print(set6)"
   ]
  },
  {
   "cell_type": "markdown",
   "metadata": {},
   "source": [
    "#### Add `set3` and `set5` to `set6` using the Python Set `update` method."
   ]
  },
  {
   "cell_type": "code",
   "execution_count": 161,
   "metadata": {},
   "outputs": [
    {
     "name": "stdout",
     "output_type": "stream",
     "text": [
      "{0, 1, 2, 3, 4, 5, 6, 7, 8, 9, 10, 11, 13, 14, 15, 16, 17, 18, 19, 20, 21, 22, 23, 24, 25, 26, 27, 28, 29, 31, 33, 34, 35, 36, 37, 38, 39, 40, 41, 43, 45, 46, 49, 50, 52, 53, 55, 57, 58, 59, 60, 61, 62, 63, 64, 65, 67, 70, 72, 73, 74, 75, 76, 77, 78, 79, 81, 82, 84, 85, 87, 88, 90, 91, 92, 93, 94, 95, 97, 99}\n"
     ]
    }
   ],
   "source": [
    "# Your code here\n",
    "set6.update(set3, set5)\n",
    "\n",
    "print(set6)"
   ]
  },
  {
   "cell_type": "markdown",
   "metadata": {},
   "source": [
    "#### Check if `set1` and `set6` are equal."
   ]
  },
  {
   "cell_type": "code",
   "execution_count": 162,
   "metadata": {},
   "outputs": [
    {
     "name": "stdout",
     "output_type": "stream",
     "text": [
      "True\n"
     ]
    }
   ],
   "source": [
    "# Your code here\n",
    "print(set1==set6)"
   ]
  },
  {
   "cell_type": "markdown",
   "metadata": {},
   "source": [
    "#### Check if `set1` contains `set2` using the Python Set `issubset` method. Then check if `set1` contains `set3`.*"
   ]
  },
  {
   "cell_type": "code",
   "execution_count": 163,
   "metadata": {},
   "outputs": [
    {
     "name": "stdout",
     "output_type": "stream",
     "text": [
      "set1 contains set2 :  False\n",
      "set1 contains set3 :  True\n"
     ]
    }
   ],
   "source": [
    "# Your code here\n",
    "print(\"set1 contains set2 : \", set2.issubset(set1))\n",
    "print(\"set1 contains set3 : \", set3.issubset(set1))"
   ]
  },
  {
   "cell_type": "markdown",
   "metadata": {},
   "source": [
    "#### Using the Python Set `union` method, aggregate `set3`, `set4`, and `set5`. Then aggregate `set1` and `set2`. \n",
    "\n",
    "#### Check if the aggregated values are equal."
   ]
  },
  {
   "cell_type": "code",
   "execution_count": 164,
   "metadata": {},
   "outputs": [
    {
     "name": "stdout",
     "output_type": "stream",
     "text": [
      "{0, 1, 2, 3, 4, 5, 6, 7, 8, 9, 10, 11, 12, 13, 14, 15, 16, 17, 18, 19, 20, 21, 22, 23, 24, 25, 26, 27, 28, 29, 30, 31, 33, 34, 35, 36, 37, 38, 39, 40, 41, 43, 44, 45, 46, 47, 48, 49, 50, 52, 53, 54, 55, 56, 57, 58, 59, 60, 61, 62, 63, 64, 65, 67, 69, 70, 72, 73, 74, 75, 76, 77, 78, 79, 81, 82, 83, 84, 85, 86, 87, 88, 90, 91, 92, 93, 94, 95, 96, 97, 98, 99}\n",
      "\n",
      " {0, 1, 2, 3, 4, 5, 6, 7, 8, 9, 10, 11, 12, 13, 14, 15, 16, 17, 18, 19, 20, 21, 22, 23, 24, 25, 26, 27, 28, 29, 30, 31, 33, 34, 35, 36, 37, 38, 39, 40, 41, 43, 44, 45, 46, 47, 48, 49, 50, 52, 53, 54, 55, 56, 57, 58, 59, 60, 61, 62, 63, 64, 65, 67, 69, 70, 72, 73, 74, 75, 76, 77, 78, 79, 81, 82, 83, 84, 85, 86, 87, 88, 90, 91, 92, 93, 94, 95, 96, 97, 98, 99}\n",
      "\n",
      "The aggregated values are equal :  True\n"
     ]
    }
   ],
   "source": [
    "# Your code here\n",
    "union1 = set3.union(set4, set5)\n",
    "union2 = set1.union(set2)\n",
    "\n",
    "print(union1)\n",
    "print(\"\\n\", union2)\n",
    "\n",
    "print(\"\\nThe aggregated values are equal : \", union1 == union2)"
   ]
  },
  {
   "cell_type": "markdown",
   "metadata": {},
   "source": [
    "#### Using the `pop` method, remove the first element from `set1`."
   ]
  },
  {
   "cell_type": "code",
   "execution_count": 166,
   "metadata": {},
   "outputs": [
    {
     "name": "stdout",
     "output_type": "stream",
     "text": [
      "{0, 1, 2, 3, 4, 5, 6, 7, 8, 9, 10, 11, 13, 14, 15, 16, 17, 18, 19, 20, 21, 22, 23, 24, 25, 26, 27, 28, 29, 31, 33, 34, 35, 36, 37, 38, 39, 40, 41, 43, 45, 46, 49, 50, 52, 53, 55, 57, 58, 59, 60, 61, 62, 63, 64, 65, 67, 70, 72, 73, 74, 75, 76, 77, 78, 79, 81, 82, 84, 85, 87, 88, 90, 91, 92, 93, 94, 95, 97, 99}\n",
      "\n",
      "We removed the first element from set1 :  0\n",
      "\n",
      " {1, 2, 3, 4, 5, 6, 7, 8, 9, 10, 11, 13, 14, 15, 16, 17, 18, 19, 20, 21, 22, 23, 24, 25, 26, 27, 28, 29, 31, 33, 34, 35, 36, 37, 38, 39, 40, 41, 43, 45, 46, 49, 50, 52, 53, 55, 57, 58, 59, 60, 61, 62, 63, 64, 65, 67, 70, 72, 73, 74, 75, 76, 77, 78, 79, 81, 82, 84, 85, 87, 88, 90, 91, 92, 93, 94, 95, 97, 99}\n"
     ]
    }
   ],
   "source": [
    "# Your code here\n",
    "print(set1)\n",
    "\n",
    "x = set1.pop()\n",
    "\n",
    "print(\"\\nWe removed the first element from set1 : \", x)\n",
    "print(\"\\n\", set1)"
   ]
  },
  {
   "cell_type": "markdown",
   "metadata": {},
   "source": [
    "#### Remove every element in the following list from `set1` if they are present in the set. Print the remaining elements.\n",
    "\n",
    "```\n",
    "list_to_remove = [1, 9, 11, 19, 21, 29, 31, 39, 41, 49, 51, 59, 61, 69, 71, 79, 81, 89, 91, 99]\n",
    "```"
   ]
  },
  {
   "cell_type": "code",
   "execution_count": 173,
   "metadata": {},
   "outputs": [
    {
     "name": "stdout",
     "output_type": "stream",
     "text": [
      "Remaining elements : \n",
      " {2, 3, 4, 5, 6, 7, 8, 10, 13, 14, 15, 16, 17, 18, 20, 22, 23, 24, 25, 26, 27, 28, 33, 34, 35, 36, 37, 38, 40, 43, 45, 46, 50, 52, 53, 55, 57, 58, 60, 62, 63, 64, 65, 67, 70, 72, 73, 74, 75, 76, 77, 78, 82, 84, 85, 87, 88, 90, 92, 93, 94, 95, 97}\n"
     ]
    }
   ],
   "source": [
    "# Your code here\n",
    "list_to_remove = [1, 9, 11, 19, 21, 29, 31, 39, 41, 49, 51, 59, 61, 69, 71, 79, 81, 89, 91, 99]\n",
    "\n",
    "for i in list_to_remove:\n",
    "    if i in set1:\n",
    "        set1.remove(i)\n",
    "\n",
    "print(\"Remaining elements : \\n\", set1)"
   ]
  },
  {
   "cell_type": "code",
   "execution_count": null,
   "metadata": {},
   "outputs": [],
   "source": []
  }
 ],
 "metadata": {
  "kernelspec": {
   "display_name": "Python 3",
   "language": "python",
   "name": "python3"
  },
  "language_info": {
   "codemirror_mode": {
    "name": "ipython",
    "version": 3
   },
   "file_extension": ".py",
   "mimetype": "text/x-python",
   "name": "python",
   "nbconvert_exporter": "python",
   "pygments_lexer": "ipython3",
   "version": "3.7.3"
  }
 },
 "nbformat": 4,
 "nbformat_minor": 2
}
