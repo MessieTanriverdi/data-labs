{
 "cells": [
  {
   "cell_type": "code",
   "execution_count": 10,
   "metadata": {},
   "outputs": [],
   "source": [
    "# Importation des images\n",
    "# https://deptinfo-ensip.univ-poitiers.fr/ENS/doku/doku.php/stu:python_gui:tuto_images\n",
    "\n",
    "import matplotlib.image as mpimg\n",
    "import matplotlib.pyplot as plt\n",
    "import numpy as np\n",
    "\n",
    "img = mpimg.imread('/Users/messie/Desktop/Type.png')\n",
    "img1 = mpimg.imread('/Users/messie/Desktop/Sexe.png')\n",
    "img2 = mpimg.imread('/Users/messie/Desktop/Country.png')\n",
    "img3 = mpimg.imread('/Users/messie/Desktop/Fatal.png')\n",
    "img4 = mpimg.imread('/Users/messie/Desktop/Age.png')\n"
   ]
  },
  {
   "cell_type": "code",
   "execution_count": 11,
   "metadata": {},
   "outputs": [],
   "source": [
    "mpimg.imsave(\"Type.png\", img)\n",
    "mpimg.imsave(\"Sexe.png\", img1)\n",
    "mpimg.imsave(\"Country.png\", img2)\n",
    "mpimg.imsave(\"Fatal.png\", img3)\n",
    "mpimg.imsave(\"Age.png\", img4)\n"
   ]
  },
  {
   "cell_type": "code",
   "execution_count": null,
   "metadata": {},
   "outputs": [],
   "source": []
  }
 ],
 "metadata": {
  "kernelspec": {
   "display_name": "Python 3",
   "language": "python",
   "name": "python3"
  },
  "language_info": {
   "codemirror_mode": {
    "name": "ipython",
    "version": 3
   },
   "file_extension": ".py",
   "mimetype": "text/x-python",
   "name": "python",
   "nbconvert_exporter": "python",
   "pygments_lexer": "ipython3",
   "version": "3.7.3"
  }
 },
 "nbformat": 4,
 "nbformat_minor": 2
}
